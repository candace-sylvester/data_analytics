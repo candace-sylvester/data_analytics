{
 "cells": [
  {
   "cell_type": "code",
   "execution_count": null,
   "metadata": {},
   "outputs": [],
   "source": [
    "#Before asking user for a number it must first be converted into integer so that the user can select any number.\n",
    "number = int(input('please enter a number'))\n",
    "\n",
    "# in order to check if the number is even it must be divded by 2 using the modulus operator and \n",
    "#if the remainder is o that means it is an even number.\n",
    "if (number % 2 == 0):\n",
    "    print(number, \"is even\")\n",
    "\n",
    "# if the number when divided by 2 is not equal to  0 then this means it is an odd number.    \n",
    "elif (number % 2 != 0):\n",
    "      print(number, \"is odd\") \n",
    "\n"
   ]
  },
  {
   "cell_type": "code",
   "execution_count": null,
   "metadata": {},
   "outputs": [],
   "source": []
  },
  {
   "cell_type": "code",
   "execution_count": null,
   "metadata": {},
   "outputs": [],
   "source": []
  }
 ],
 "metadata": {
  "kernelspec": {
   "display_name": "Python 3",
   "language": "python",
   "name": "python3"
  },
  "language_info": {
   "codemirror_mode": {
    "name": "ipython",
    "version": 3
   },
   "file_extension": ".py",
   "mimetype": "text/x-python",
   "name": "python",
   "nbconvert_exporter": "python",
   "pygments_lexer": "ipython3",
   "version": "3.8.5"
  }
 },
 "nbformat": 4,
 "nbformat_minor": 4
}
